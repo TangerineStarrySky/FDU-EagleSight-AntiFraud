{
 "cells": [
  {
   "cell_type": "code",
   "execution_count": 4,
   "metadata": {},
   "outputs": [
    {
     "name": "stdout",
     "output_type": "stream",
     "text": [
      "无风险 2308\n",
      "冒充电商物流客服类 327\n",
      "虚假网络投资理财类 3224\n",
      "虚假信用服务类 377\n",
      "虚假购物、服务类 639\n",
      "冒充公检法及政府机关类 557\n",
      "冒充领导、熟人类 131\n",
      "网络婚恋、交友类 39\n",
      "冒充军警购物类诈骗 129\n",
      "网黑案件 3\n"
     ]
    }
   ],
   "source": [
    "import pandas as pd\n",
    "\n",
    "categories = [\n",
    "    \"无风险\",\n",
    "    \"冒充电商物流客服类\",\n",
    "    \"虚假网络投资理财类\",\n",
    "    \"虚假信用服务类\",\n",
    "    \"虚假购物、服务类\",\n",
    "    \"冒充公检法及政府机关类\",\n",
    "    \"冒充领导、熟人类\",\n",
    "    \"网络婚恋、交友类\",\n",
    "    \"冒充军警购物类诈骗\",\n",
    "    \"网黑案件\"\n",
    "]\n",
    "\n",
    "df = pd.read_json(\"eval_small.json\")\n",
    "for category in categories:\n",
    "    print(category, len(df[df['风险类别']==category]))\n"
   ]
  }
 ],
 "metadata": {
  "kernelspec": {
   "display_name": "Python 3",
   "language": "python",
   "name": "python3"
  },
  "language_info": {
   "codemirror_mode": {
    "name": "ipython",
    "version": 3
   },
   "file_extension": ".py",
   "mimetype": "text/x-python",
   "name": "python",
   "nbconvert_exporter": "python",
   "pygments_lexer": "ipython3",
   "version": "3.12.5"
  }
 },
 "nbformat": 4,
 "nbformat_minor": 2
}
