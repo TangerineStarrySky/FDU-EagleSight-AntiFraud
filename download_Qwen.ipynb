{
 "cells": [
  {
   "cell_type": "code",
   "execution_count": 1,
   "metadata": {},
   "outputs": [
    {
     "name": "stdout",
     "output_type": "stream",
     "text": [
      "🔴🔴🔴🔴🔴🔴🔴🔴🔴🔴     Start downloading: Qwen2.5-0.5B-Instruct     🔴🔴🔴🔴🔴🔴🔴🔴🔴🔴\n"
     ]
    },
    {
     "name": "stderr",
     "output_type": "stream",
     "text": [
      "./Qwen2.5-0.5B-Instruct/.gitattributes: 100%|██████████| 1.48k/1.48k [00:00<?, ?iB/s]\n",
      "./Qwen2.5-0.5B-Instruct/LICENSE: 100%|██████████| 11.1k/11.1k [00:00<00:00, 10.9MiB/s]\n",
      "./Qwen2.5-0.5B-Instruct/README.md: 100%|██████████| 4.80k/4.80k [00:00<?, ?iB/s]\n",
      "./Qwen2.5-0.5B-Instruct/config.json: 100%|██████████| 659/659 [00:00<?, ?iB/s] \n",
      "./Qwen2.5-0.5B-Instruct/generation_config.json: 100%|██████████| 242/242 [00:00<?, ?iB/s] \n",
      "./Qwen2.5-0.5B-Instruct/merges.txt: 100%|██████████| 1.59M/1.59M [00:01<00:00, 1.03MiB/s]\n",
      "./Qwen2.5-0.5B-Instruct/model.safetensors: 100%|██████████| 942M/942M [01:32<00:00, 10.7MiB/s] \n",
      "./Qwen2.5-0.5B-Instruct/tokenizer.json: 100%|██████████| 6.71M/6.71M [00:01<00:00, 5.16MiB/s]\n",
      "./Qwen2.5-0.5B-Instruct/tokenizer_config.json: 100%|██████████| 7.13k/7.13k [00:00<?, ?iB/s]\n",
      "./Qwen2.5-0.5B-Instruct/vocab.json: 100%|██████████| 2.65M/2.65M [00:00<00:00, 3.09MiB/s]\n"
     ]
    },
    {
     "name": "stdout",
     "output_type": "stream",
     "text": [
      "🟢🟢🟢🟢🟢🟢🟢🟢🟢🟢     Download completed     🟢🟢🟢🟢🟢🟢🟢🟢🟢🟢\n"
     ]
    }
   ],
   "source": [
    "from pycrawlers import huggingface\n",
    "# 实例化类\n",
    "hg = huggingface()\n",
    "\n",
    "# 2.单个下载\n",
    "url = 'https://huggingface.co/Qwen/Qwen2.5-0.5B-Instruct/tree/main'\n",
    "\n",
    "# 默认保存位置在当前脚本所在文件夹 ./\n",
    "hg.get_data(url)"
   ]
  },
  {
   "cell_type": "code",
   "execution_count": null,
   "metadata": {},
   "outputs": [],
   "source": []
  },
  {
   "cell_type": "code",
   "execution_count": null,
   "metadata": {},
   "outputs": [],
   "source": []
  }
 ],
 "metadata": {
  "kernelspec": {
   "display_name": "Python 3",
   "language": "python",
   "name": "python3"
  },
  "language_info": {
   "codemirror_mode": {
    "name": "ipython",
    "version": 3
   },
   "file_extension": ".py",
   "mimetype": "text/x-python",
   "name": "python",
   "nbconvert_exporter": "python",
   "pygments_lexer": "ipython3",
   "version": "3.12.5"
  }
 },
 "nbformat": 4,
 "nbformat_minor": 2
}
